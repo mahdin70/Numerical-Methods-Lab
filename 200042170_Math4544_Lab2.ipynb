{
  "nbformat": 4,
  "nbformat_minor": 0,
  "metadata": {
    "colab": {
      "provenance": [],
      "toc_visible": true
    },
    "kernelspec": {
      "name": "python3",
      "display_name": "Python 3"
    },
    "language_info": {
      "name": "python"
    }
  },
  "cells": [
    {
      "cell_type": "markdown",
      "metadata": {
        "id": "SChhcgB_Tkv9"
      },
      "source": [
        "# **Lab 2 : Direct method of Interpolation**<br>\n",
        "\n",
        "Interpolation is the process of estimating unknown data that lies within the range of some known data. The simplest interpolation is the **Direct method of Interpolation**. In order to interpolate unknown data, one needs to define a model that would fit the known data and based on that model, one would obtain the unknown data. This model would basically be a function that tries to satisfy the known data points. There can be various types of functions that may satisfy the same given data points, but for interpolation, we usually choose **polynomials** as interpolating functions due to the fact that polynomials are very easy to evaluate, differentiate and integrate.\n",
        "\n",
        "In today's lab, we will be implementing the Direct method of Interpolation in python. To test our implementation, we will be using the same data that we used during our class lectures. Run the following cell to load the known data points:\n"
      ]
    },
    {
      "cell_type": "code",
      "metadata": {
        "id": "rZ4tGQSjTvYF"
      },
      "source": [
        "t = [0, 10, 15, 20, 22.5, 30]\n",
        "v = [0, 227.04, 362.78, 517.35, 602.97, 901.67]"
      ],
      "execution_count": null,
      "outputs": []
    },
    {
      "cell_type": "markdown",
      "metadata": {
        "id": "3sOLCbqJT7q0"
      },
      "source": [
        "##Task 1\n",
        "Design a utility function that will be called in the `DirectInterpolation` function. The purpose of this function will be to find the $n+1$ closest points to the unknown value $t_{new}$ where we want to interpolate the data, where $n$ is the order of the interpolating polynomial. Understand that the nearest points should be selected such that they bracket the $t_{new}$. The function to be implemented is as follows:"
      ]
    },
    {
      "cell_type": "code",
      "metadata": {
        "id": "f6HGUB7nT9k9"
      },
      "source": [
        "def NearestPoints(t, v, n, t_new):\n",
        "  #Write your implementation here\n",
        "  absolute_differences = [abs(t_value - t_new) for t_value in t]\n",
        "  # print(absolute_differences)\n",
        "\n",
        "  sorted_indices = sorted(range(len(t)), key=absolute_differences.__getitem__)\n",
        "  # print(sorted_indices)\n",
        "\n",
        "  selected_indices = sorted_indices[:n+1]\n",
        "  # print(selected_indices)\n",
        "\n",
        "  # Create lists of selected t and v values\n",
        "  t_nearest = [t[i] for i in selected_indices]\n",
        "  v_nearest = [v[i] for i in selected_indices]\n",
        "\n",
        "  return t_nearest, v_nearest"
      ],
      "execution_count": 100,
      "outputs": []
    },
    {
      "cell_type": "markdown",
      "source": [
        "The above function is supposed to return two vectors, say `t_nearest` and `v_nearest` consisting of $n+1$ elements each. For testing how the function works, we can print the data and see what we are getting. If our implementation is correct, then we should be getting $[15], [362.78]$ for $n=0$. Run the following cell to check this:"
      ],
      "metadata": {
        "id": "w25YRkvd9XEh"
      }
    },
    {
      "cell_type": "code",
      "source": [
        "n = 0\n",
        "t_new = 16\n",
        "\n",
        "t_nearest, v_nearest = NearestPoints(t, v, n, t_new)\n",
        "print(t_nearest)\n",
        "print(v_nearest)"
      ],
      "metadata": {
        "id": "FSo0cJ1TkmRN",
        "colab": {
          "base_uri": "https://localhost:8080/"
        },
        "outputId": "5e9a50e4-66ff-414a-de87-72b8d6e28d86"
      },
      "execution_count": 101,
      "outputs": [
        {
          "output_type": "stream",
          "name": "stdout",
          "text": [
            "[15]\n",
            "[362.78]\n"
          ]
        }
      ]
    },
    {
      "cell_type": "code",
      "source": [
        "n = 1\n",
        "t_new = 16\n",
        "\n",
        "t_nearest, v_nearest = NearestPoints(t, v, n, t_new)\n",
        "print(t_nearest)\n",
        "print(v_nearest)"
      ],
      "metadata": {
        "id": "z5SN6pQj9Z7Q",
        "colab": {
          "base_uri": "https://localhost:8080/"
        },
        "outputId": "bf919210-6775-4052-981c-2d5c6b39d9c2"
      },
      "execution_count": 102,
      "outputs": [
        {
          "output_type": "stream",
          "name": "stdout",
          "text": [
            "[15, 20]\n",
            "[362.78, 517.35]\n"
          ]
        }
      ]
    },
    {
      "cell_type": "markdown",
      "source": [
        "The output for $n=1$ should be $[15, 20], [362.78, 517.35]$"
      ],
      "metadata": {
        "id": "JdaIx97ljwYk"
      }
    },
    {
      "cell_type": "code",
      "source": [
        "n = 2\n",
        "t_new = 16\n",
        "\n",
        "t_nearest, v_nearest = NearestPoints(t, v, n, t_new)\n",
        "print(t_nearest)\n",
        "print(v_nearest)"
      ],
      "metadata": {
        "id": "hOb4TMsTkBjs",
        "colab": {
          "base_uri": "https://localhost:8080/"
        },
        "outputId": "b98129ca-5cb3-4a5c-d262-98ceade34d75"
      },
      "execution_count": 103,
      "outputs": [
        {
          "output_type": "stream",
          "name": "stdout",
          "text": [
            "[15, 20, 10]\n",
            "[362.78, 517.35, 227.04]\n"
          ]
        }
      ]
    },
    {
      "cell_type": "markdown",
      "source": [
        "The output for $n=2$ should be $[15, 20, 10], [362.78, 517.35, 227.04]$"
      ],
      "metadata": {
        "id": "KzFR4QO8kFRn"
      }
    },
    {
      "cell_type": "markdown",
      "metadata": {
        "id": "Z6sc0ZNUUGNk"
      },
      "source": [
        "## Task 2\n",
        "Now your task is to design a generalized function that takes the given data as parameters as well as the order $n$ of the polynomial and uses the *Direct Interpolation* method to interpolate the unknown data at $t_{new}$. The following cell contains the function to be implemented:"
      ]
    },
    {
      "cell_type": "code",
      "metadata": {
        "id": "zHadfasm8dUF"
      },
      "source": [
        "import numpy as np\n",
        "\n",
        "def evaluate_polynomial(coefficients, x):\n",
        "    # Evaluate a polynomial with given coefficients at x\n",
        "    result = 0\n",
        "    power = 1\n",
        "    for coef in coefficients:\n",
        "        result += coef * power\n",
        "        power *= x\n",
        "    return result\n",
        "\n",
        "def DirectInterpolation(t, v, n, t_new):\n",
        "    # Find the n+1 closest data points to t_new\n",
        "    t_nearest, v_nearest = NearestPoints(t, v, n, t_new)\n",
        "\n",
        "    # Create the Vandermonde matrix using t_nearest values\n",
        "    A = np.vander(t_nearest, increasing=True)\n",
        "\n",
        "    # Extract the coefficients of the interpolating polynomial using linear algebra\n",
        "    coefficients = np.linalg.solve(A, v_nearest)\n",
        "\n",
        "    # Evaluate the interpolating polynomial at t_new\n",
        "    interpolated_value = evaluate_polynomial(coefficients, t_new)\n",
        "\n",
        "    return interpolated_value"
      ],
      "execution_count": 104,
      "outputs": []
    },
    {
      "cell_type": "markdown",
      "metadata": {
        "id": "t1yWM5V18cA2"
      },
      "source": [
        "Note that the above function will at first need to find a number of closest points to the unknown data $t_{new}$, and this number will vary depending on the order $n$ of the polynomial that we want to use as the interpolating function. So you will have to call the function you implemented in Task 1 inside this function."
      ]
    },
    {
      "cell_type": "code",
      "source": [
        "print(DirectInterpolation(t, v, 1, 16))"
      ],
      "metadata": {
        "id": "91g2Q0pTm0Ds",
        "colab": {
          "base_uri": "https://localhost:8080/"
        },
        "outputId": "faccad18-e785-4eee-d35d-5c431b7cd833"
      },
      "execution_count": 105,
      "outputs": [
        {
          "output_type": "stream",
          "name": "stdout",
          "text": [
            "393.69399999999996\n"
          ]
        }
      ]
    },
    {
      "cell_type": "markdown",
      "source": [
        "For $n=1$, we should get $v(16) = 393.7ms^{-1}$."
      ],
      "metadata": {
        "id": "kb6DPOAmnIq7"
      }
    },
    {
      "cell_type": "code",
      "source": [
        "print(DirectInterpolation(t, v, 2, 16))"
      ],
      "metadata": {
        "id": "dqVSikEhnERc",
        "colab": {
          "base_uri": "https://localhost:8080/"
        },
        "outputId": "138d922d-a928-4c75-fd51-3935f368b2e9"
      },
      "execution_count": 108,
      "outputs": [
        {
          "output_type": "stream",
          "name": "stdout",
          "text": [
            "392.1876\n"
          ]
        }
      ]
    },
    {
      "cell_type": "markdown",
      "source": [
        "For $n=2$, we should get $v(16) = 392.19ms^{-1}$."
      ],
      "metadata": {
        "id": "4eCg93mknX20"
      }
    },
    {
      "cell_type": "code",
      "source": [
        "print(DirectInterpolation(t, v, 3, 16))"
      ],
      "metadata": {
        "id": "eabSBX2WnEsS",
        "colab": {
          "base_uri": "https://localhost:8080/"
        },
        "outputId": "6312a9b1-8029-4071-e0dd-53ac5359fd8f"
      },
      "execution_count": 109,
      "outputs": [
        {
          "output_type": "stream",
          "name": "stdout",
          "text": [
            "392.05716799999993\n"
          ]
        }
      ]
    },
    {
      "cell_type": "code",
      "source": [
        "n=[]\n",
        "interpolated_values=[]\n",
        "val=DirectInterpolation(t, v, 1, 16)\n",
        "interpolated_values.append(val)\n",
        "print(val)\n"
      ],
      "metadata": {
        "colab": {
          "base_uri": "https://localhost:8080/"
        },
        "id": "0l230bupReHB",
        "outputId": "b56a90c9-1dc0-4b37-a8e9-9a1c7333ad7a"
      },
      "execution_count": 110,
      "outputs": [
        {
          "output_type": "stream",
          "name": "stdout",
          "text": [
            "393.69399999999996\n"
          ]
        }
      ]
    },
    {
      "cell_type": "code",
      "source": [
        "val=DirectInterpolation(t, v, 2, 16)\n",
        "interpolated_values.append(val)\n",
        "n.append(2)\n",
        "print(val)"
      ],
      "metadata": {
        "colab": {
          "base_uri": "https://localhost:8080/"
        },
        "id": "BY0fx1zNRgDi",
        "outputId": "c9b5df1e-cd58-4c0b-de09-fde6ad9803bd"
      },
      "execution_count": 111,
      "outputs": [
        {
          "output_type": "stream",
          "name": "stdout",
          "text": [
            "392.1876\n"
          ]
        }
      ]
    },
    {
      "cell_type": "code",
      "source": [
        "val=DirectInterpolation(t, v, 3, 16)\n",
        "interpolated_values.append(val)\n",
        "n.append(3)\n",
        "print(val)"
      ],
      "metadata": {
        "colab": {
          "base_uri": "https://localhost:8080/"
        },
        "id": "748KUm22RkPS",
        "outputId": "5291738f-7a50-444c-a205-01ee4a0c802b"
      },
      "execution_count": 112,
      "outputs": [
        {
          "output_type": "stream",
          "name": "stdout",
          "text": [
            "392.05716799999993\n"
          ]
        }
      ]
    },
    {
      "cell_type": "code",
      "source": [
        "val=DirectInterpolation(t, v, 4, 16)\n",
        "interpolated_values.append(val)\n",
        "n.append(4)\n",
        "print(val)"
      ],
      "metadata": {
        "colab": {
          "base_uri": "https://localhost:8080/"
        },
        "id": "OU8C1rcFRnaJ",
        "outputId": "4e45899f-3771-4cdc-88bb-4108ac17ab0a"
      },
      "execution_count": 113,
      "outputs": [
        {
          "output_type": "stream",
          "name": "stdout",
          "text": [
            "392.0737109333333\n"
          ]
        }
      ]
    },
    {
      "cell_type": "code",
      "source": [
        "val=DirectInterpolation(t, v, 5, 16)\n",
        "interpolated_values.append(val)\n",
        "print(val)"
      ],
      "metadata": {
        "colab": {
          "base_uri": "https://localhost:8080/"
        },
        "id": "jSA__p1ORp2y",
        "outputId": "256e14d9-e425-48c6-da9c-4ed0b43da978"
      },
      "execution_count": 114,
      "outputs": [
        {
          "output_type": "stream",
          "name": "stdout",
          "text": [
            "392.0705789155555\n"
          ]
        }
      ]
    },
    {
      "cell_type": "markdown",
      "source": [
        "For $n=2$, we should get $v(16) = 392.06ms^{-1}$."
      ],
      "metadata": {
        "id": "GvFpwbNmnez_"
      }
    },
    {
      "cell_type": "markdown",
      "metadata": {
        "id": "rcyU1bzM9u3g"
      },
      "source": [
        "##Task 3\n",
        "Now, test the function using different order of polynomials, setting $n = 1, 2,$ and $3$ and so on and print the absolute relative approximate error at each step. Also generate a plot of Order $(n)$ vs Relative Approximate Error $(|\\epsilon_a|\\%)$. In case you do not remember how graphs can be plotted in Python, here is a sample code showing how to do it using the `matplotlib` library."
      ]
    },
    {
      "cell_type": "code",
      "metadata": {
        "id": "HcPhTbIu_sn4"
      },
      "source": [],
      "execution_count": 114,
      "outputs": []
    },
    {
      "cell_type": "code",
      "source": [
        "import numpy as np\n",
        "import matplotlib.pyplot as plt\n",
        "\n",
        "iters = np.arange(0, 5)\n",
        "vals = np.arange(100, 200, 20)\n",
        "\n",
        "# Calculate interpolated values using vals\n",
        "interpolated_values = vals\n",
        "\n",
        "relative_errors = [abs((interpolated_values[i] - interpolated_values[i-1]) / interpolated_values[i-1]) for i in range(1, len(interpolated_values))]\n",
        "\n",
        "print(relative_errors)\n",
        "plt.plot(iters[1:], relative_errors)  # Use iters as x-axis values\n",
        "plt.title(\"Order vs Relative Error Plot\")\n",
        "plt.xlabel(\"Order\")\n",
        "plt.ylabel(\"Relative Error\")\n",
        "plt.show()\n"
      ],
      "metadata": {
        "id": "YDxTWEDA_PzH",
        "colab": {
          "base_uri": "https://localhost:8080/",
          "height": 490
        },
        "outputId": "7cf5e08e-e4a7-43ca-ef0e-3aafab52403a"
      },
      "execution_count": 120,
      "outputs": [
        {
          "output_type": "stream",
          "name": "stdout",
          "text": [
            "[0.2, 0.16666666666666666, 0.14285714285714285, 0.125]\n"
          ]
        },
        {
          "output_type": "display_data",
          "data": {
            "text/plain": [
              "<Figure size 640x480 with 1 Axes>"
            ],
            "image/png": "[encoded data removed]"
          },
          "metadata": {}
        }
      ]
    },
    {
      "cell_type": "markdown",
      "source": [
        "##Task 4\n",
        "Now, write a function for evaluating the acceleration at $t = 16$"
      ],
      "metadata": {
        "id": "TQaze05x-0B6"
      }
    },
    {
      "cell_type": "code",
      "source": [
        "import numpy as np\n",
        "\n",
        "def evaluate_polynomial(coefficients, x):\n",
        "    result = 0\n",
        "    power = 1\n",
        "    for coef in coefficients:\n",
        "        result += coef * power\n",
        "        power *= x\n",
        "    return result\n",
        "\n",
        "def DirectInterpolation(t, v, n, t_new):\n",
        "    t_nearest, v_nearest = NearestPoints(t, v, n, t_new)\n",
        "    A = np.vander(t_nearest, increasing=True)\n",
        "    coefficients = np.linalg.solve(A, v_nearest)\n",
        "\n",
        "    interpolated_value = evaluate_polynomial(coefficients, t_new)\n",
        "\n",
        "    return interpolated_value,coefficients\n",
        "\n",
        "def acceleration(coefficients, t_new):\n",
        "    n = len(coefficients)\n",
        "    second_derivative_coefficients = [coef * i * (i - 1) for i, coef in enumerate(coefficients[2:], start=2)]\n",
        "    acceleration_at_t_new = evaluate_polynomial(second_derivative_coefficients, t_new)\n",
        "\n",
        "    return acceleration_at_t_new\n",
        "\n",
        "t = [0, 10, 15, 20, 22.5, 30]\n",
        "v = [0, 227.04, 362.78, 517.35, 602.97, 901.67]\n",
        "\n",
        "interpolated_value,coefficients = DirectInterpolation(t, v, 3, 16)\n",
        "\n",
        "\n",
        "acceleration_value = acceleration(coefficients, 16)\n",
        "print(\"Acceleration:\", acceleration_value)"
      ],
      "metadata": {
        "id": "M3Vhtwnu-99O",
        "colab": {
          "base_uri": "https://localhost:8080/"
        },
        "outputId": "395906bd-146a-4c67-89f8-b1dbaf22a621"
      },
      "execution_count": 90,
      "outputs": [
        {
          "output_type": "stream",
          "name": "stdout",
          "text": [
            "Acceleration: 0.7858080000000013\n"
          ]
        }
      ]
    }
  ]
}